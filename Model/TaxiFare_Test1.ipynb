{
  "cells": [
    {
      "cell_type": "code",
      "execution_count": null,
      "metadata": {
        "id": "wFD9NFnG0K-e"
      },
      "outputs": [],
      "source": [
        "import joblib\n",
        "import pandas as pd"
      ]
    },
    {
      "cell_type": "code",
      "execution_count": 3,
      "metadata": {
        "id": "DEBAQLuq0ViQ"
      },
      "outputs": [],
      "source": [
        "model = joblib.load(\"fare_model.pkl\")"
      ]
    },
    {
      "cell_type": "code",
      "execution_count": 4,
      "metadata": {
        "id": "rpXTy8w60Yi7"
      },
      "outputs": [],
      "source": [
        "city = \"Jaipur\"\n",
        "source = \"Railway Station\"\n",
        "destination = \"Amber Fort\"\n",
        "distance_km = 10.5"
      ]
    },
    {
      "cell_type": "code",
      "execution_count": 5,
      "metadata": {
        "id": "nQPZtKpgaxTd"
      },
      "outputs": [],
      "source": [
        "vehicle_types = [\"bike\", \"riksha\", \"car\"]"
      ]
    },
    {
      "cell_type": "code",
      "execution_count": 6,
      "metadata": {
        "id": "7cbwY4xybIXZ"
      },
      "outputs": [],
      "source": [
        "inputs = pd.DataFrame([\n",
        "    {\n",
        "        \"city\": city,\n",
        "        \"source\": source,\n",
        "        \"destination\": destination,\n",
        "        \"vehicle_type\": vt,\n",
        "        \"distance_km\": distance_km\n",
        "    }\n",
        "    for vt in vehicle_types\n",
        "])"
      ]
    },
    {
      "cell_type": "code",
      "execution_count": 7,
      "metadata": {
        "id": "FJB6oXpt0a7H"
      },
      "outputs": [],
      "source": [
        "predicted_fares = model.predict(inputs)"
      ]
    },
    {
      "cell_type": "code",
      "execution_count": 8,
      "metadata": {
        "colab": {
          "base_uri": "https://localhost:8080/"
        },
        "id": "GFlKTJ3bbmau",
        "outputId": "bc93338d-6033-4696-bd29-ab2aab7c5404"
      },
      "outputs": [
        {
          "name": "stdout",
          "output_type": "stream",
          "text": [
            "Bike Fare: ₹90.66\n",
            "Riksha Fare: ₹159.07\n",
            "Car Fare: ₹225.03\n"
          ]
        }
      ],
      "source": [
        "for vt, fare in zip(vehicle_types, predicted_fares):\n",
        "    print(f\"{vt.title()} Fare: ₹{round(fare, 2)}\")"
      ]
    }
  ],
  "metadata": {
    "colab": {
      "provenance": []
    },
    "kernelspec": {
      "display_name": "Python 3",
      "name": "python3"
    },
    "language_info": {
      "name": "python"
    }
  },
  "nbformat": 4,
  "nbformat_minor": 0
}
